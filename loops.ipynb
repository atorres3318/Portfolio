{
 "cells": [
  {
   "cell_type": "markdown",
   "metadata": {
    "collapsed": false
   },
   "source": [
    "## **Loops!**\n",
    "\n",
    "This video demo shows an understanding of underlying mechanisms of loops, as well as how to construct them.\n",
    "\n",
    "*https://web.microsoftstream.com/video/a9e4a344-516c-4c1a-9488-cd2fcd2defd2*\n"
   ]
  },
  {
   "cell_type": "markdown",
   "metadata": {
    "collapsed": false
   },
   "source": [
    "Additionally, one is able to loop through DataFrames with the **itterows** function. In pandas, one must explicitly mention iterating over rows:"
   ]
  },
  {
   "cell_type": "code",
   "execution_count": 2,
   "metadata": {
    "collapsed": false
   },
   "outputs": [
    {
     "data": {
      "text/html": [
       "<div>\n",
       "<style scoped>\n",
       "    .dataframe tbody tr th:only-of-type {\n",
       "        vertical-align: middle;\n",
       "    }\n",
       "\n",
       "    .dataframe tbody tr th {\n",
       "        vertical-align: top;\n",
       "    }\n",
       "\n",
       "    .dataframe thead th {\n",
       "        text-align: right;\n",
       "    }\n",
       "</style>\n",
       "<table border=\"1\" class=\"dataframe\">\n",
       "  <thead>\n",
       "    <tr style=\"text-align: right;\">\n",
       "      <th></th>\n",
       "      <th>num_eyes</th>\n",
       "      <th>num_limbs</th>\n",
       "    </tr>\n",
       "  </thead>\n",
       "  <tbody>\n",
       "    <tr>\n",
       "      <th>spider</th>\n",
       "      <td>8</td>\n",
       "      <td>8</td>\n",
       "    </tr>\n",
       "    <tr>\n",
       "      <th>human</th>\n",
       "      <td>2</td>\n",
       "      <td>2</td>\n",
       "    </tr>\n",
       "  </tbody>\n",
       "</table>\n",
       "</div>"
      ],
      "text/plain": [
       "        num_eyes  num_limbs\n",
       "spider         8          8\n",
       "human          2          2"
      ]
     },
     "execution_count": 2,
     "metadata": {
     },
     "output_type": "execute_result"
    }
   ],
   "source": [
    "import pandas as pd\n",
    "#creating dataframe\n",
    "frame = pd.DataFrame({'num_limbs': [8, 2], 'num_eyes': [8, 2]}, index=['spider', 'human'])\n",
    "frame"
   ]
  },
  {
   "cell_type": "code",
   "execution_count": 12,
   "metadata": {
    "collapsed": false
   },
   "outputs": [
    {
     "name": "stdout",
     "output_type": "stream",
     "text": [
      "('spider', num_eyes     8\n",
      "num_limbs    8\n",
      "Name: spider, dtype: int64)\n",
      "('human', num_eyes     2\n",
      "num_limbs    2\n",
      "Name: human, dtype: int64)\n"
     ]
    }
   ],
   "source": [
    "#looping through dataframe to print each row\n",
    "for rows in frame.iterrows():\n",
    "    print(rows)"
   ]
  },
  {
   "cell_type": "code",
   "execution_count": 0,
   "metadata": {
    "collapsed": false
   },
   "outputs": [
   ],
   "source": [
   ]
  }
 ],
 "metadata": {
  "kernelspec": {
   "display_name": "Python 2 (system-wide)",
   "language": "python",
   "metadata": {
    "cocalc": {
     "description": "Python 2 programming language",
     "priority": 5,
     "url": "https://www.python.org/"
    }
   },
   "name": "python2",
   "resource_dir": "/ext/jupyter/kernels/python2"
  },
  "language_info": {
   "codemirror_mode": {
    "name": "ipython",
    "version": 2
   },
   "file_extension": ".py",
   "mimetype": "text/x-python",
   "name": "python",
   "nbconvert_exporter": "python",
   "pygments_lexer": "ipython2",
   "version": "2.7.18"
  }
 },
 "nbformat": 4,
 "nbformat_minor": 4
}